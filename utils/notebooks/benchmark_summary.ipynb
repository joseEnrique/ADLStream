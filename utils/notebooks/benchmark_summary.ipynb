{
 "cells": [
  {
   "cell_type": "code",
   "execution_count": 6,
   "metadata": {},
   "outputs": [],
   "source": [
    "import os\n",
    "import numpy as np\n",
    "import pandas as pd"
   ]
  },
  {
   "cell_type": "code",
   "execution_count": 7,
   "metadata": {},
   "outputs": [],
   "source": [
    "_RESULT_DIR = '../../DSClassificationResults/DSClassificationResults_keras'\n",
    "_MODEL = 'keras_parallel_3_Dilated_Conv'\n",
    "_FILE_NAME = 'metrics.csv'\n",
    "_RES_FILE_PATH = './files/benchmark.csv'\n",
    "_DATASETS = sorted(os.listdir(_RESULT_DIR))\n"
   ]
  },
  {
   "cell_type": "code",
   "execution_count": 11,
   "metadata": {},
   "outputs": [],
   "source": [
    "benchmark = pd.DataFrame(table_dict)\n",
    "metrics_ls = []\n",
    "\n",
    "for dataset in _DATASETS:\n",
    "    file_path = os.path.join(_RESULT_DIR, dataset, _MODEL, _FILE_NAME)\n",
    "    metrics = pd.read_csv(file_path)\n",
    "    metrics_summary = {'dataset':dataset,\n",
    "              'classifier':_MODEL,\n",
    "              'total':metrics['total'].max(),\n",
    "              'tp':metrics['tp'].mean(),\n",
    "              'tn':metrics['tn'].mean(),\n",
    "              'fp':metrics['fp'].mean(),\n",
    "              'fn':metrics['fn'].mean(),\n",
    "              'precision':metrics['precision'].mean(),\n",
    "              'recall':metrics['recall'].mean(),\n",
    "              'f1':metrics['f1'].mean(),\n",
    "              'fbeta':metrics['fbeta'].mean(),\n",
    "              'accuracy':metrics['accuracy'].mean(),\n",
    "              'train_time_s':metrics['train_time'].sum(),\n",
    "              'test_time_s':metrics['test_time'].sum()\n",
    "             }\n",
    "    metrics_ls.append(metrics_summary)\n",
    "\n",
    "res = pd.DataFrame(metrics_ls, columns=['dataset','classifier','total','tp','tn','fp','fn','precision','recall','f1','fbeta','accuracy','train_time_s','test_time_s'])\n",
    "res.to_csv(_RES_FILE_PATH, index=False)\n",
    "    "
   ]
  },
  {
   "cell_type": "code",
   "execution_count": null,
   "metadata": {},
   "outputs": [],
   "source": []
  }
 ],
 "metadata": {
  "kernelspec": {
   "display_name": "Python 3",
   "language": "python",
   "name": "python3"
  },
  "language_info": {
   "codemirror_mode": {
    "name": "ipython",
    "version": 3
   },
   "file_extension": ".py",
   "mimetype": "text/x-python",
   "name": "python",
   "nbconvert_exporter": "python",
   "pygments_lexer": "ipython3",
   "version": "3.7.0"
  }
 },
 "nbformat": 4,
 "nbformat_minor": 2
}
