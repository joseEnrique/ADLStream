{
 "cells": [
  {
   "cell_type": "code",
   "execution_count": 1,
   "metadata": {},
   "outputs": [],
   "source": [
    "import os\n",
    "import numpy as np\n",
    "import pandas as pd"
   ]
  },
  {
   "cell_type": "code",
   "execution_count": 2,
   "metadata": {},
   "outputs": [],
   "source": [
    "_RESULT_DIR = ['../../DSClassificationResults/DSClassificationResults_keras', '../../DSClassificationResults/DSClassificationResults_sklearn', '../../DSClassificationResults/DSClassificationResults_MOA'] \n",
    "_MODEL = 'keras_parallel_3_Dilated_Conv'\n",
    "_FILE_NAME = 'metrics.csv'\n",
    "_RES_FILE_PATH = './files/benchmark.csv'\n",
    "#_DATASETS = sorted(os.listdir(_RESULT_DIR))\n"
   ]
  },
  {
   "cell_type": "code",
   "execution_count": 3,
   "metadata": {},
   "outputs": [
    {
     "name": "stdout",
     "output_type": "stream",
     "text": [
      "Errors: ['keras_3_Dilated_Conv - streams_breast']\n"
     ]
    }
   ],
   "source": [
    "#benchmark = pd.DataFrame(table_dict)\n",
    "errors = []\n",
    "metrics_ls = []\n",
    "\n",
    "for result_dir in _RESULT_DIR:\n",
    "    datasets = sorted(os.listdir(result_dir))\n",
    "    for dataset in datasets:\n",
    "        models = sorted(os.listdir(os.path.join(result_dir, dataset)))\n",
    "        for model in models:               \n",
    "            file_path = os.path.join(result_dir, dataset, model, _FILE_NAME)\n",
    "            try:\n",
    "                metrics = pd.read_csv(file_path)\n",
    "            except Exception:\n",
    "                errors.append(model + \" - \" + dataset)\n",
    "                continue\n",
    "            if model.startswith(\"MOA\"):\n",
    "                metrics['accuracy'] = metrics['accuracy']/100. \n",
    "            metrics_summary = {'dataset':dataset,\n",
    "                      'classifier':model,\n",
    "                      'total':metrics['total'].max(),\n",
    "                      'tp':metrics['tp'].mean() if 'tp' in metrics.columns else \"\",\n",
    "                      'tn':metrics['tn'].mean() if 'tn' in metrics.columns else \"\", \n",
    "                      'fp':metrics['fp'].mean() if 'fp' in metrics.columns else \"\",\n",
    "                      'fn':metrics['fn'].mean() if 'fn' in metrics.columns else \"\",\n",
    "                      'precision':metrics['precision'].mean() if 'precision' in metrics.columns else \"\",\n",
    "                      'recall':metrics['recall'].mean() if 'recall' in metrics.columns else \"\",\n",
    "                      'f1':metrics['f1'].mean() if 'f1' in metrics.columns else \"\",\n",
    "                      'fbeta':metrics['fbeta'].mean() if 'fbeta' in metrics.columns else \"\",\n",
    "                      'accuracy':metrics['accuracy'].mean() if 'accuracy' in metrics.columns else \"\",\n",
    "                      'train_time_s':metrics['train_time'].sum() if 'train_time' in metrics.columns else \"\",\n",
    "                      'test_time_s':metrics['test_time'].sum() if 'test_time' in metrics.columns else \"\"\n",
    "                     }\n",
    "            metrics_ls.append(metrics_summary)\n",
    "\n",
    "res = pd.DataFrame(metrics_ls, columns=['dataset','classifier','total','tp','tn','fp','fn','precision','recall','f1','fbeta','accuracy','train_time_s','test_time_s'])\n",
    "res = res.sort_values(by=['dataset', 'classifier'])\n",
    "res.to_csv(_RES_FILE_PATH, index=False)\n",
    "\n",
    "if errors:\n",
    "    print(\"Errors: \" + str(errors))\n",
    "    "
   ]
  },
  {
   "cell_type": "code",
   "execution_count": null,
   "metadata": {},
   "outputs": [],
   "source": []
  }
 ],
 "metadata": {
  "kernelspec": {
   "display_name": "Python 3",
   "language": "python",
   "name": "python3"
  },
  "language_info": {
   "codemirror_mode": {
    "name": "ipython",
    "version": 3
   },
   "file_extension": ".py",
   "mimetype": "text/x-python",
   "name": "python",
   "nbconvert_exporter": "python",
   "pygments_lexer": "ipython3",
   "version": "3.6.6"
  }
 },
 "nbformat": 4,
 "nbformat_minor": 2
}
